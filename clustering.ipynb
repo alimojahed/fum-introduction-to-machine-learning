{
  "nbformat": 4,
  "nbformat_minor": 0,
  "metadata": {
    "colab": {
      "provenance": []
    },
    "kernelspec": {
      "name": "python3",
      "display_name": "Python 3"
    },
    "language_info": {
      "name": "python"
    }
  },
  "cells": [
    {
      "cell_type": "markdown",
      "source": [
        "# **Unsupervised Learning Project**\n",
        "## **Introduction to Machine Learning**\n",
        "\n",
        "#### Ali Mojahed\n",
        "#### 9812762554"
      ],
      "metadata": {
        "id": "Kf3a9nXx4IJK"
      }
    },
    {
      "cell_type": "markdown",
      "source": [
        "# Download and Unzip Dataset"
      ],
      "metadata": {
        "id": "5iQJb3Sp2UsA"
      }
    },
    {
      "cell_type": "code",
      "execution_count": null,
      "metadata": {
        "id": "UZqnRE4ZC7U4"
      },
      "outputs": [],
      "source": [
        "!wget -O ORL.zip https://www.dropbox.com/s/hgqggui5gtwqrr3/ORL.zip?dl=0\n",
        "!unzip ORL.zip -d /content/ORL"
      ]
    },
    {
      "cell_type": "markdown",
      "source": [
        "# Open Images"
      ],
      "metadata": {
        "id": "5tH2nNnm2ajQ"
      }
    },
    {
      "cell_type": "code",
      "source": [
        "from PIL import Image, ImageOps\n",
        "import glob\n",
        "import numpy as np\n",
        "#import all photos\n",
        "image_list = list()\n",
        "image_file_name_list = list()\n",
        "for image_file in glob.glob(\"/content/ORL/*.jpg\"):\n",
        "  image = Image.open(image_file)\n",
        "  image = ImageOps.grayscale(image)\n",
        "  image_file = image_file.replace(\"/content/ORL/\", \"\").replace(\".jpg\", \"\")\n",
        "  image_arr = np.array(image)\n",
        "  image_list.append(image_arr)\n",
        "  image_file_name_list.append(image_file)\n",
        "\n",
        "image_list = np.array(image_list)\n",
        "\n",
        "number_of_people = 41"
      ],
      "metadata": {
        "id": "PA3bQbscMNYz"
      },
      "execution_count": null,
      "outputs": []
    },
    {
      "cell_type": "markdown",
      "source": [
        "# Rand-Index Implementation"
      ],
      "metadata": {
        "id": "xRqmH0xF2gvK"
      }
    },
    {
      "cell_type": "code",
      "source": [
        "def rand_index(clustered_data, data_label):\n",
        "  tp, tn, fp, fn = 0, 0, 0, 0\n",
        "\n",
        "  for i in range(len(clustered_data)):\n",
        "    if clustered_data[i] == -1:\n",
        "      continue\n",
        "    for j in range(i+1, len(clustered_data)):\n",
        "      if clustered_data[j] == -1:\n",
        "        continue\n",
        "      if clustered_data[i] == clustered_data[j]:\n",
        "        if data_label[i].split(\"_\")[1] == data_label[j].split(\"_\")[1]:\n",
        "          tp += 1\n",
        "        else:\n",
        "          fp += 1\n",
        "      else:\n",
        "        if data_label[i].split(\"_\")[1] == data_label[j].split(\"_\")[1]:\n",
        "          fn += 1\n",
        "        else:\n",
        "          tn += 1\n",
        "\n",
        "    rand_index = (tp + tn) / (tp + fp + fn + tn)\n",
        "\n",
        "    return rand_index * 100"
      ],
      "metadata": {
        "id": "XHN9QQ2_JzOl"
      },
      "execution_count": null,
      "outputs": []
    },
    {
      "cell_type": "markdown",
      "source": [
        "# Histogram Utility"
      ],
      "metadata": {
        "id": "_WroSOuw2kyh"
      }
    },
    {
      "cell_type": "code",
      "source": [
        "from matplotlib import pyplot as plt\n",
        "plt.rcParams['figure.figsize'] = [15, 6]\n",
        "def draw_histogram(data, title):\n",
        "  bins = np.arange(-5, 50, 1) # fixed bin size\n",
        "\n",
        "  plt.xlim([min(data)-5, max(data)+5])\n",
        "\n",
        "  plt.hist(data, bins=bins, alpha=0.5)\n",
        "  plt.xticks(np.arange(-1, max(data)+5, 2))\n",
        "  plt.title(title)\n",
        "  plt.xlabel('clusters')\n",
        "  plt.ylabel('count')\n",
        "\n",
        "  plt.show()"
      ],
      "metadata": {
        "id": "ipbBOiJa4b5q"
      },
      "execution_count": null,
      "outputs": []
    },
    {
      "cell_type": "markdown",
      "source": [
        "# KMeans Algorithm"
      ],
      "metadata": {
        "id": "9r-kdLk52pq1"
      }
    },
    {
      "cell_type": "code",
      "source": [
        "from sklearn.cluster import KMeans\n",
        "nsamples, nx, ny = image_list.shape\n",
        "d2_images = image_list.reshape((nsamples,nx*ny))\n",
        "kmeans = KMeans(n_clusters=number_of_people).fit(d2_images)\n",
        "kmeans_ri = rand_index(kmeans.labels_, image_file_name_list)\n",
        "kmeans_ri"
      ],
      "metadata": {
        "colab": {
          "base_uri": "https://localhost:8080/"
        },
        "id": "y8gQOdQUTGrk",
        "outputId": "1b0d536e-89cb-4887-a99c-1c5e8bdb45b4"
      },
      "execution_count": null,
      "outputs": [
        {
          "output_type": "execute_result",
          "data": {
            "text/plain": [
              "97.31051344743277"
            ]
          },
          "metadata": {},
          "execution_count": 186
        }
      ]
    },
    {
      "cell_type": "code",
      "source": [
        "draw_histogram(kmeans.labels_, \"kmeans\")"
      ],
      "metadata": {
        "colab": {
          "base_uri": "https://localhost:8080/",
          "height": 404
        },
        "id": "G7WOTHpDq20U",
        "outputId": "4b0cba88-4430-4906-d96a-06c2ff1089b2"
      },
      "execution_count": null,
      "outputs": [
        {
          "output_type": "display_data",
          "data": {
            "text/plain": [
              "<Figure size 1080x432 with 1 Axes>"
            ],
            "image/png": "[encoded data removed]"
          },
          "metadata": {
            "needs_background": "light"
          }
        }
      ]
    },
    {
      "cell_type": "markdown",
      "source": [
        "# DBSCAN Algorithm"
      ],
      "metadata": {
        "id": "luNRHsQd2ucF"
      }
    },
    {
      "cell_type": "code",
      "source": [
        "from sklearn.cluster import DBSCAN\n",
        "nsamples, nx, ny = image_list.shape\n",
        "d2_images = image_list.reshape((nsamples,nx*ny))\n",
        "dbscan = DBSCAN(eps=2300, min_samples=2).fit(d2_images)\n",
        "dbscan_ri = rand_index(dbscan.labels_, image_file_name_list)\n",
        "dbscan_ri"
      ],
      "metadata": {
        "colab": {
          "base_uri": "https://localhost:8080/"
        },
        "id": "2_LQmGTcUOMl",
        "outputId": "a799195b-48be-4d93-c3e2-3ae13aeeee5c"
      },
      "execution_count": null,
      "outputs": [
        {
          "output_type": "execute_result",
          "data": {
            "text/plain": [
              "97.20670391061452"
            ]
          },
          "metadata": {},
          "execution_count": 187
        }
      ]
    },
    {
      "cell_type": "code",
      "source": [
        "draw_histogram(dbscan.labels_, \"dbscan histogram\")"
      ],
      "metadata": {
        "colab": {
          "base_uri": "https://localhost:8080/",
          "height": 404
        },
        "id": "PohnLEFYjvrK",
        "outputId": "4cd8d719-8481-4e8a-a6b1-8f8c035582fb"
      },
      "execution_count": null,
      "outputs": [
        {
          "output_type": "display_data",
          "data": {
            "text/plain": [
              "<Figure size 1080x432 with 1 Axes>"
            ],
            "image/png": "[encoded data removed]"
          },
          "metadata": {
            "needs_background": "light"
          }
        }
      ]
    },
    {
      "cell_type": "markdown",
      "source": [
        "# Agglomerative Algorithm"
      ],
      "metadata": {
        "id": "xBU5uJwH2yYy"
      }
    },
    {
      "cell_type": "markdown",
      "source": [
        "## Average-Link"
      ],
      "metadata": {
        "id": "Le8fg62L21mQ"
      }
    },
    {
      "cell_type": "code",
      "source": [
        "from sklearn.cluster import AgglomerativeClustering\n",
        "nsamples, nx, ny = image_list.shape\n",
        "d2_images = image_list.reshape((nsamples,nx*ny))\n",
        "average_link = AgglomerativeClustering(n_clusters=number_of_people, linkage='average').fit(d2_images)\n",
        "average_link_ri = rand_index(average_link.labels_, image_file_name_list)\n",
        "average_link_ri"
      ],
      "metadata": {
        "colab": {
          "base_uri": "https://localhost:8080/"
        },
        "id": "BB2LPs6uRgw2",
        "outputId": "8cfd286b-a60e-4316-9e81-74b10e4ad4e0"
      },
      "execution_count": null,
      "outputs": [
        {
          "output_type": "execute_result",
          "data": {
            "text/plain": [
              "90.4645476772616"
            ]
          },
          "metadata": {},
          "execution_count": 190
        }
      ]
    },
    {
      "cell_type": "code",
      "source": [
        "draw_histogram(average_link.labels_, \"average-link\")"
      ],
      "metadata": {
        "colab": {
          "base_uri": "https://localhost:8080/",
          "height": 404
        },
        "id": "zjZPIO952-M7",
        "outputId": "b04d9139-a0b3-41ea-ecb3-b6f12cef2729"
      },
      "execution_count": null,
      "outputs": [
        {
          "output_type": "display_data",
          "data": {
            "text/plain": [
              "<Figure size 1080x432 with 1 Axes>"
            ],
            "image/png": "[encoded data removed]"
          },
          "metadata": {
            "needs_background": "light"
          }
        }
      ]
    },
    {
      "cell_type": "markdown",
      "source": [
        "## Single-Link"
      ],
      "metadata": {
        "id": "FHtaS1CP25-6"
      }
    },
    {
      "cell_type": "code",
      "source": [
        "from sklearn.cluster import AgglomerativeClustering\n",
        "nsamples, nx, ny = image_list.shape\n",
        "d2_images = image_list.reshape((nsamples,nx*ny))\n",
        "single_link = AgglomerativeClustering(n_clusters=number_of_people, linkage='single').fit(d2_images)\n",
        "single_link_ri = rand_index(single_link.labels_, image_file_name_list)\n",
        "single_link_ri"
      ],
      "metadata": {
        "colab": {
          "base_uri": "https://localhost:8080/"
        },
        "id": "oGogBCsjSBnW",
        "outputId": "6406f8f5-49ec-4e15-dbc9-fdfc86b18fbb"
      },
      "execution_count": null,
      "outputs": [
        {
          "output_type": "execute_result",
          "data": {
            "text/plain": [
              "41.075794621026894"
            ]
          },
          "metadata": {},
          "execution_count": 191
        }
      ]
    },
    {
      "cell_type": "code",
      "source": [
        "draw_histogram(single_link.labels_, \"single-link\")"
      ],
      "metadata": {
        "colab": {
          "base_uri": "https://localhost:8080/",
          "height": 404
        },
        "id": "DLwwKNpW3FeD",
        "outputId": "dfc91504-301a-4ed6-fba4-b943b2d598cf"
      },
      "execution_count": null,
      "outputs": [
        {
          "output_type": "display_data",
          "data": {
            "text/plain": [
              "<Figure size 1080x432 with 1 Axes>"
            ],
            "image/png": "[encoded data removed]"
          },
          "metadata": {
            "needs_background": "light"
          }
        }
      ]
    },
    {
      "cell_type": "markdown",
      "source": [
        "## Complete-Link"
      ],
      "metadata": {
        "id": "Er0hyEi53Q-A"
      }
    },
    {
      "cell_type": "code",
      "source": [
        "from sklearn.cluster import AgglomerativeClustering\n",
        "nsamples, nx, ny = image_list.shape\n",
        "d2_images = image_list.reshape((nsamples,nx*ny))\n",
        "complete_link = AgglomerativeClustering(n_clusters=number_of_people, linkage='complete').fit(d2_images)\n",
        "complete_link_ri = rand_index(complete_link.labels_, image_file_name_list)\n",
        "complete_link_ri"
      ],
      "metadata": {
        "colab": {
          "base_uri": "https://localhost:8080/"
        },
        "id": "oxNC4VfZSGai",
        "outputId": "b8c40a0d-d074-4df0-be60-a6e826c9fd35"
      },
      "execution_count": null,
      "outputs": [
        {
          "output_type": "execute_result",
          "data": {
            "text/plain": [
              "97.55501222493888"
            ]
          },
          "metadata": {},
          "execution_count": 192
        }
      ]
    },
    {
      "cell_type": "code",
      "source": [
        "draw_histogram(complete_link.labels_, \"complete-link\")"
      ],
      "metadata": {
        "colab": {
          "base_uri": "https://localhost:8080/",
          "height": 404
        },
        "id": "f9iY7JRZ3QgB",
        "outputId": "54ac447d-8aff-465f-9243-4c49d8ff19d5"
      },
      "execution_count": null,
      "outputs": [
        {
          "output_type": "display_data",
          "data": {
            "text/plain": [
              "<Figure size 1080x432 with 1 Axes>"
            ],
            "image/png": "[encoded data removed]"
          },
          "metadata": {
            "needs_background": "light"
          }
        }
      ]
    },
    {
      "cell_type": "markdown",
      "source": [
        "# Iterative Fixed-Cluster DBSCAN"
      ],
      "metadata": {
        "id": "R0Lmxcov3b7G"
      }
    },
    {
      "cell_type": "code",
      "source": [
        "from sklearn.cluster import DBSCAN\n",
        "import time\n",
        "\n",
        "class IterativeFixedClusterDBSCAN():\n",
        " def __init__(\n",
        "        self,\n",
        "        n_clusters=5,\n",
        "        eps_growth_step = 0.05,\n",
        "        eps_max_growth = 0.7,\n",
        "        eps_min_growth = 0.2,\n",
        "        min_sample_growth_step=1,\n",
        "        min_sample_min_growth=2,\n",
        "        max_sample_max_growth=10,\n",
        "        time_limit = 2 * 60,\n",
        "        metric=\"euclidean\",\n",
        "        metric_params=None,\n",
        "        algorithm=\"auto\",\n",
        "        leaf_size=30,\n",
        "        p=None,\n",
        "        n_jobs=None):\n",
        "\n",
        "  self.dbscan = DBSCAN(eps=eps_min_growth, min_samples=min_sample_min_growth, metric=metric, metric_params=metric_params, algorithm=algorithm, leaf_size=leaf_size, p=p, n_jobs=n_jobs)\n",
        "\n",
        "  self.n_clusters = n_clusters\n",
        "  self.time_limit = time_limit * 1.0\n",
        "\n",
        "  self.eps_growth_step = eps_growth_step\n",
        "  self.eps_max_growth = eps_max_growth\n",
        "  self.eps_min_growth = eps_min_growth\n",
        "\n",
        "  self.min_sample_grwoth_step = min_sample_growth_step\n",
        "  self.min_sample_min_growth = min_sample_min_growth\n",
        "  self.max_sample_max_growth = max_sample_max_growth\n",
        "\n",
        "\n",
        " def fit(self, X, y=None, sample_weight=None):\n",
        "  number_of_clusters = 0\n",
        "  execute_time = 0\n",
        "  start_time = time.time()\n",
        "  base_eps = self.dbscan.eps\n",
        "  base_min_sample = self.dbscan.min_samples\n",
        "  # self.lables_ = [-1]\n",
        "  for eps in range(self.eps_min_growth, self.eps_max_growth, self.eps_growth_step):\n",
        "    for min_sample in range(self.min_sample_min_growth, self.max_sample_max_growth, self.min_sample_grwoth_step):\n",
        "      self.dbscan.eps = eps\n",
        "      self.dbscan.min_samples = min_sample\n",
        "\n",
        "      labels = self.dbscan.fit_predict(X, y, sample_weight)\n",
        "      # print(labels)\n",
        "      execute_time = time.time() - start_time\n",
        "      # print(max(labels))\n",
        "      if max(labels)+1 == self.n_clusters:\n",
        "        # self.min_samples = min_sample\n",
        "        # self.eps = eps\n",
        "        return self.dbscan\n",
        "      if execute_time > self.time_limit:\n",
        "        self.dbscan.labels_ = [-1 for i in X]\n",
        "        return self.dbscan\n",
        "\n",
        "  return self.dbscan\n",
        ""
      ],
      "metadata": {
        "id": "EjDjOBx4QDEy"
      },
      "execution_count": null,
      "outputs": []
    },
    {
      "cell_type": "code",
      "source": [
        "nsamples, nx, ny = image_list.shape\n",
        "d2_images = image_list.reshape((nsamples,nx*ny))\n",
        "ifc_dbscan = IterativeFixedClusterDBSCAN(n_clusters=number_of_people, eps_growth_step=5,\n",
        "                                         eps_max_growth=3000, eps_min_growth=2200,\n",
        "                                         min_sample_growth_step=1, min_sample_min_growth=3,\n",
        "                                         max_sample_max_growth=11).fit(d2_images)\n",
        "ifc_dbscan_ri = rand_index(ifc_dbscan.labels_, image_file_name_list)\n",
        "ifc_dbscan_ri"
      ],
      "metadata": {
        "colab": {
          "base_uri": "https://localhost:8080/"
        },
        "id": "ofcvl1ai_ter",
        "outputId": "21c45e46-e64e-405b-9179-d1b0c2a01355"
      },
      "execution_count": null,
      "outputs": [
        {
          "output_type": "execute_result",
          "data": {
            "text/plain": [
              "96.95121951219512"
            ]
          },
          "metadata": {},
          "execution_count": 193
        }
      ]
    },
    {
      "cell_type": "code",
      "source": [
        "draw_histogram(ifc_dbscan.labels_, \"iterative fixed cluster dbscan\")"
      ],
      "metadata": {
        "colab": {
          "base_uri": "https://localhost:8080/",
          "height": 404
        },
        "id": "11YNQ3Y_EIgb",
        "outputId": "9777bc23-fdd8-495b-e0c5-2d971ea7f707"
      },
      "execution_count": null,
      "outputs": [
        {
          "output_type": "display_data",
          "data": {
            "text/plain": [
              "<Figure size 1080x432 with 1 Axes>"
            ],
            "image/png": "[encoded data removed]"
          },
          "metadata": {
            "needs_background": "light"
          }
        }
      ]
    },
    {
      "cell_type": "markdown",
      "source": [
        "# Epsilon-Based KMeans"
      ],
      "metadata": {
        "id": "s143YsVh3mJk"
      }
    },
    {
      "cell_type": "code",
      "source": [
        "class EpsilonBasedKMeans:\n",
        "    def __init__(self, k=2, tol=0.001, max_iter=5, eps=1):\n",
        "        self.k = k\n",
        "        self.tol = tol\n",
        "        self.max_iter = max_iter\n",
        "        self.eps = eps\n",
        "\n",
        "    def _get_neighbors(self, centroid):\n",
        "        \"\"\" Return a list of indexes of neighboring samples\n",
        "        A sample_2 is considered a neighbor of sample_1 if the distance between\n",
        "        them is smaller than epsilon \"\"\"\n",
        "        neighbors = []\n",
        "        idxs = np.arange(len(self.X))\n",
        "        for i, _sample in enumerate(self.X):\n",
        "            distance = np.linalg.norm(centroid-_sample)\n",
        "            # print(distance)\n",
        "            if distance < self.eps:\n",
        "                neighbors.append(i)\n",
        "        return np.array(neighbors)\n",
        "\n",
        "\n",
        "    def fit(self,data):\n",
        "\n",
        "        self.centroids = {}\n",
        "        data = data / 255\n",
        "        self.X = data\n",
        "        origin_centroid_label = []\n",
        "        # for centroid in range(k):\n",
        "        #   centroid = np.random.uniform(centroid_min, centroid_max, n_dims)\n",
        "        #   centroids.append(centroid)\n",
        "\n",
        "        for i in range(self.k):\n",
        "            ci = int(np.random.uniform(0, len(data), 1))\n",
        "            self.centroids[i] = data[ci]\n",
        "            origin_centroid_label.append(ci)\n",
        "\n",
        "        for i in range(self.max_iter):\n",
        "            self.classifications = {}\n",
        "\n",
        "            for i in range(self.k):\n",
        "                self.classifications[i] = []\n",
        "            self.label = []\n",
        "            neighbors = []\n",
        "            for centroid in self.centroids:\n",
        "              neighbors.append(self._get_neighbors(centroid))\n",
        "            for index, featureset in enumerate(data):\n",
        "                distances = []\n",
        "                find_centroid = False\n",
        "                for ci, centroid in enumerate(self.centroids):\n",
        "                  if index in neighbors[ci]:\n",
        "                    find_centroid = True\n",
        "                    distances.append(np.linalg.norm(featureset-self.centroids[centroid]))\n",
        "                  else:\n",
        "                    distances.append(10e15)\n",
        "                if index in origin_centroid_label:\n",
        "                  classification = origin_centroid_label.index(index)\n",
        "                  self.classifications[classification].append(featureset)\n",
        "                elif find_centroid:\n",
        "                  classification = distances.index(min(distances))\n",
        "                  self.classifications[classification].append(featureset)\n",
        "                else:\n",
        "                  print(\"hello\")\n",
        "                  classification = -1\n",
        "\n",
        "                self.label.append(classification)\n",
        "\n",
        "            prev_centroids = dict(self.centroids)\n",
        "\n",
        "            for classification in self.classifications:\n",
        "                self.centroids[classification] = np.average(self.classifications[classification],axis=0)\n",
        "\n",
        "            optimized = True\n",
        "\n",
        "            for c in self.centroids:\n",
        "                original_centroid = prev_centroids[c]\n",
        "                current_centroid = self.centroids[c]\n",
        "                if np.sum((current_centroid-original_centroid)/original_centroid*100.0) > self.tol:\n",
        "                    # print(np.sum((current_centroid-original_centroid)/original_centroid*100.0))\n",
        "                    optimized = False\n",
        "\n",
        "            if optimized:\n",
        "                break\n",
        "\n",
        "    def predict(self,data):\n",
        "        distances = [np.linalg.norm(data-self.centroids[centroid]) for centroid in self.centroids]\n",
        "        classification = distances.index(min(distances))\n",
        "        return classification"
      ],
      "metadata": {
        "id": "kt25dMYy8P7a"
      },
      "execution_count": null,
      "outputs": []
    },
    {
      "cell_type": "code",
      "source": [
        "model = EpsilonBasedKMeans(k=41, eps=2300)\n",
        "nsamples, nx, ny = image_list.shape\n",
        "d2_images = image_list.reshape((nsamples,nx*ny))\n",
        "model.fit(d2_images)\n",
        "ep_kmeans_ri = rand_index(model.label, image_file_name_list)\n",
        "ep_kmeans_ri"
      ],
      "metadata": {
        "colab": {
          "base_uri": "https://localhost:8080/"
        },
        "id": "PkPdeXlc_NFk",
        "outputId": "c3e82b46-6a95-47c8-e872-5fd948eddf58"
      },
      "execution_count": null,
      "outputs": [
        {
          "output_type": "stream",
          "name": "stderr",
          "text": [
            "/usr/local/lib/python3.7/dist-packages/numpy/lib/function_base.py:380: RuntimeWarning: Mean of empty slice.\n",
            "  avg = a.mean(axis)\n",
            "/usr/local/lib/python3.7/dist-packages/numpy/core/_methods.py:189: RuntimeWarning: invalid value encountered in double_scalars\n",
            "  ret = ret.dtype.type(ret / rcount)\n",
            "/usr/local/lib/python3.7/dist-packages/ipykernel_launcher.py:77: RuntimeWarning: divide by zero encountered in true_divide\n",
            "/usr/local/lib/python3.7/dist-packages/ipykernel_launcher.py:77: RuntimeWarning: invalid value encountered in true_divide\n"
          ]
        },
        {
          "output_type": "execute_result",
          "data": {
            "text/plain": [
              "95.84352078239608"
            ]
          },
          "metadata": {},
          "execution_count": 222
        }
      ]
    },
    {
      "cell_type": "code",
      "source": [
        "draw_histogram(model.label, \"epsilon based kmeans\")"
      ],
      "metadata": {
        "colab": {
          "base_uri": "https://localhost:8080/",
          "height": 404
        },
        "id": "WJDktbLZD5l0",
        "outputId": "2c4401fd-3694-4182-9766-ec47b0dc5392"
      },
      "execution_count": null,
      "outputs": [
        {
          "output_type": "display_data",
          "data": {
            "text/plain": [
              "<Figure size 1080x432 with 1 Axes>"
            ],
            "image/png": "[encoded data removed]"
          },
          "metadata": {
            "needs_background": "light"
          }
        }
      ]
    },
    {
      "cell_type": "markdown",
      "source": [
        "# Current Run RI Metrics"
      ],
      "metadata": {
        "id": "bGzEOzhM3qYs"
      }
    },
    {
      "cell_type": "code",
      "source": [
        "algo = [\"Kmeans\", \"DBSCAN\", \"Average-Link\", \"Single-Link\", \"Complete-Link\", \"IFC-DBSCAN\", \"Eps Kmeans\"]\n",
        "ri = [kmeans_ri, dbscan_ri, average_link_ri, single_link_ri, complete_link_ri, ifc_dbscan_ri, ep_kmeans_ri]"
      ],
      "metadata": {
        "id": "gv29hYjLowCd"
      },
      "execution_count": null,
      "outputs": []
    },
    {
      "cell_type": "code",
      "source": [
        "def valuelabel(algo,ri):\n",
        "    for i in range(len(algo)):\n",
        "        plt.text(i,round(ri[i], 4),round(ri[i], 6), ha = 'center',\n",
        "                 bbox = dict(facecolor = 'cyan', alpha =0.8))\n",
        "\n",
        "# Plot bar chart\n",
        "plt.bar(algo, ri)\n",
        "\n",
        "# Call function\n",
        "valuelabel(algo, ri)\n",
        "\n",
        "# Define labels\n",
        "plt.xlabel(\"Algorithm\")\n",
        "plt.ylabel(\"Rand-Index\")\n",
        "\n",
        "# Display plot\n",
        "plt.show()"
      ],
      "metadata": {
        "colab": {
          "base_uri": "https://localhost:8080/",
          "height": 388
        },
        "id": "RQUAW9S4p5Wl",
        "outputId": "87be1d2e-601b-496e-dd15-23ceb57a53e0"
      },
      "execution_count": null,
      "outputs": [
        {
          "output_type": "display_data",
          "data": {
            "text/plain": [
              "<Figure size 1080x432 with 1 Axes>"
            ],
            "image/png": "[encoded data removed]"
          },
          "metadata": {
            "needs_background": "light"
          }
        }
      ]
    },
    {
      "cell_type": "markdown",
      "source": [
        "# References\n",
        "\n",
        "\n",
        "*   https://github.com/eriklindernoren/ML-From-Scratch/blob/master/mlfromscratch/unsupervised_learning/dbscan.py\n",
        "*   https://medium.com/@rishit.dagli/build-k-means-from-scratch-in-python-e46bf68aa875\n",
        "\n",
        "*  https://anderfernandez.com/en/blog/kmeans-algorithm-python/\n",
        "\n",
        "*  https://pythonguides.com/matplotlib-bar-chart-labels/\n",
        "*  https://stackoverflow.com/questions/24809757/how-to-make-a-histogram-from-a-list-of-data\n",
        "*  https://scikit-learn.org/stable/modules/classes.html#module-sklearn.cluster\n",
        "\n"
      ],
      "metadata": {
        "id": "qNZT2zh_3uTo"
      }
    }
  ]
}